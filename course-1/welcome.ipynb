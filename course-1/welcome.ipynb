{
 "cells": [
  {
   "cell_type": "markdown",
   "id": "7226db17",
   "metadata": {},
   "source": [
    "# Welcome to ML_speceialisation\n",
    "- course 1 - Supervised learning\n",
    "- course 2 - Advanced learning"
   ]
  },
  {
   "cell_type": "code",
   "execution_count": 5,
   "id": "a0ab170d",
   "metadata": {},
   "outputs": [
    {
     "name": "stdout",
     "output_type": "stream",
     "text": [
      "Welcome to ML Specialisation..\n"
     ]
    }
   ],
   "source": [
    "course = \"ML Specialisation\"\n",
    "print(f\"Welcome to {course}..\")"
   ]
  },
  {
   "cell_type": "code",
   "execution_count": null,
   "id": "bfa92136",
   "metadata": {},
   "outputs": [],
   "source": []
  }
 ],
 "metadata": {
  "kernelspec": {
   "display_name": "Python 3 (ipykernel)",
   "language": "python",
   "name": "python3"
  },
  "language_info": {
   "codemirror_mode": {
    "name": "ipython",
    "version": 3
   },
   "file_extension": ".py",
   "mimetype": "text/x-python",
   "name": "python",
   "nbconvert_exporter": "python",
   "pygments_lexer": "ipython3",
   "version": "3.8.9"
  }
 },
 "nbformat": 4,
 "nbformat_minor": 5
}
